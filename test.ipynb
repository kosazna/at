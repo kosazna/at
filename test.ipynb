{
 "cells": [
  {
   "cell_type": "code",
   "execution_count": 1,
   "source": [
    "from at.web import *"
   ],
   "outputs": [],
   "metadata": {}
  },
  {
   "cell_type": "code",
   "execution_count": 2,
   "source": [
    "html = open(\"D:/.temp/htmls/1.htm\", encoding='utf-8').read()\r\n",
    "soup = BeautifulSoup(html, 'lxml')"
   ],
   "outputs": [],
   "metadata": {}
  },
  {
   "cell_type": "code",
   "execution_count": 3,
   "source": [
    "product = Element(\r\n",
    "    NAME='product',\r\n",
    "    TAG='div',\r\n",
    "    CLASS='brand-products',\r\n",
    "    TEXT=False)\r\n",
    "\r\n",
    "img = Element(\r\n",
    "    NAME='img_parent',\r\n",
    "    TAG='div',\r\n",
    "    CLASS='listing-parent-pkw',\r\n",
    "    DEFAULT='',\r\n",
    "    TEXT=False,\r\n",
    "    SUB=Element(NAME='img',\r\n",
    "                TAG='img',\r\n",
    "                ATTRIBUTE='src'))\r\n"
   ],
   "outputs": [],
   "metadata": {}
  },
  {
   "cell_type": "code",
   "execution_count": 4,
   "source": [
    "multi_parse_soup(soup, img)"
   ],
   "outputs": [
    {
     "output_type": "execute_result",
     "data": {
      "text/plain": [
       "['https://media.pkwteile.de/360_photos/7007162/preview.jpg',\n",
       " 'https://cdn.pkwteile.de/thumb?id=1228990&m=1&n=0&e=221&lng=gr&ccf=94077812',\n",
       " 'https://cdn.pkwteile.de/thumb?id=13785965&m=1&n=0&e=221&lng=gr&ccf=94077812',\n",
       " 'https://cdn.pkwteile.de/thumb?id=1228980&m=1&n=0&e=221&lng=gr&ccf=94077812',\n",
       " 'https://media.pkwteile.de/360_photos/1229047/preview.jpg',\n",
       " 'https://cdn.pkwteile.de/thumb?id=13785964&m=1&n=0&e=221&lng=gr&ccf=94077812',\n",
       " 'https://cdn.pkwteile.de/thumb?id=10058931&m=1&n=0&e=221&lng=gr&ccf=94077812',\n",
       " 'https://cdn.pkwteile.de/thumb?id=13785967&m=1&n=0&e=221&lng=gr&ccf=94077812',\n",
       " 'https://cdn.pkwteile.de/thumb?id=13785966&m=1&n=0&e=221&lng=gr&ccf=94077812',\n",
       " 'https://cdn.pkwteile.de/thumb?id=10058940&m=1&n=0&e=221&lng=gr&ccf=94077812',\n",
       " 'https://cdn.pkwteile.de/thumb?id=1229095&m=1&n=0&e=221&lng=gr&ccf=94077812',\n",
       " 'https://cdn.pkwteile.de/thumb?id=13473144&m=1&n=0&e=221&lng=gr&ccf=94077812',\n",
       " 'https://cdn.pkwteile.de/thumb?id=13785968&m=1&n=0&e=221&lng=gr&ccf=94077812',\n",
       " 'https://cdn.pkwteile.de/thumb?id=10058942&m=1&n=0&e=221&lng=gr&ccf=94077812',\n",
       " 'https://cdn.pkwteile.de/thumb?id=1229053&m=1&n=0&e=221&lng=gr&ccf=94077812',\n",
       " 'https://cdn.pkwteile.de/thumb?id=1228992&m=1&n=0&e=221&lng=gr&ccf=94077812',\n",
       " 'https://cdn.pkwteile.de/thumb?id=17008578&m=1&n=0&e=221&lng=gr&ccf=94077812',\n",
       " 'https://media.pkwteile.de/360_photos/1228967/preview.jpg',\n",
       " 'https://cdn.pkwteile.de/thumb?id=1229017&m=1&n=0&e=221&lng=gr&ccf=94077812',\n",
       " 'https://media.pkwteile.de/360_photos/15484905/preview.jpg']"
      ]
     },
     "metadata": {},
     "execution_count": 4
    }
   ],
   "metadata": {}
  }
 ],
 "metadata": {
  "orig_nbformat": 4,
  "language_info": {
   "name": "python",
   "version": "3.8.12",
   "mimetype": "text/x-python",
   "codemirror_mode": {
    "name": "ipython",
    "version": 3
   },
   "pygments_lexer": "ipython3",
   "nbconvert_exporter": "python",
   "file_extension": ".py"
  },
  "kernelspec": {
   "name": "python3",
   "display_name": "Python 3.8.12 64-bit ('dev': conda)"
  },
  "interpreter": {
   "hash": "d7fde2c3eb056dc37a4c61486f1660b4a748975f0cc4b12e98f7b4157baf5564"
  }
 },
 "nbformat": 4,
 "nbformat_minor": 2
}